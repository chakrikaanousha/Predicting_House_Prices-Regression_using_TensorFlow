{
  "nbformat": 4,
  "nbformat_minor": 0,
  "metadata": {
    "colab": {
      "provenance": [],
      "toc_visible": true,
      "authorship_tag": "ABX9TyOnapr8NG7MWkHzxs8HyE7L",
      "include_colab_link": true
    },
    "kernelspec": {
      "name": "python3",
      "display_name": "Python 3"
    },
    "language_info": {
      "name": "python"
    }
  },
  "cells": [
    {
      "cell_type": "markdown",
      "metadata": {
        "id": "view-in-github",
        "colab_type": "text"
      },
      "source": [
        "<a href=\"https://colab.research.google.com/github/chakrikaanousha/Predicting_House_Prices-Regression_using_TensorFlow/blob/main/Predicting_House_Prices_with_Regression.ipynb\" target=\"_parent\"><img src=\"https://colab.research.google.com/assets/colab-badge.svg\" alt=\"Open In Colab\"/></a>"
      ]
    },
    {
      "cell_type": "markdown",
      "source": [
        "# Predicting House Prices with Regression"
      ],
      "metadata": {
        "id": "p5Hpb8XmNCR1"
      }
    },
    {
      "cell_type": "markdown",
      "source": [
        "# Evaluting price of Houses by using following features:\n",
        "\n",
        "\n",
        "---\n",
        "\n",
        "\n",
        "\n",
        "\n",
        "1.   Year of sale of the House\n",
        "2.   The age of the house at the time of sale\n",
        "3.   Distance from city center\n",
        "4.  Number of stores in the locality\n",
        "5.  The latitude\n",
        "6.  The longitude\n",
        "\n"
      ],
      "metadata": {
        "id": "3jXMN1sdNMlQ"
      }
    },
    {
      "cell_type": "markdown",
      "source": [
        " ## **Importing Libraries**"
      ],
      "metadata": {
        "id": "XBBEIwwyNsje"
      }
    },
    {
      "cell_type": "code",
      "source": [
        "!pip install utils\n",
        "from utils import *\n",
        "print(\"importing necessary libraries\")"
      ],
      "metadata": {
        "colab": {
          "base_uri": "https://localhost:8080/"
        },
        "id": "96nZTTWi4ste",
        "outputId": "ad97bbc7-bbc1-476e-8be0-9660e57dd2ac"
      },
      "execution_count": null,
      "outputs": [
        {
          "output_type": "stream",
          "name": "stdout",
          "text": [
            "Collecting utils\n",
            "  Downloading utils-1.0.1-py2.py3-none-any.whl (21 kB)\n",
            "Installing collected packages: utils\n",
            "Successfully installed utils-1.0.1\n",
            "importing necessary libraries\n"
          ]
        }
      ]
    },
    {
      "cell_type": "code",
      "execution_count": null,
      "metadata": {
        "colab": {
          "base_uri": "https://localhost:8080/"
        },
        "id": "UjqkOPWi3-LV",
        "outputId": "be08995e-a124-4e28-fc72-ce399a9d30b9"
      },
      "outputs": [
        {
          "output_type": "stream",
          "name": "stdout",
          "text": [
            "2.12.0\n"
          ]
        }
      ],
      "source": [
        "import tensorflow as tf\n",
        "import pandas as pd\n",
        "import matplotlib.pyplot as plt\n",
        "\n",
        "from utils import *\n",
        "from sklearn.model_selection import train_test_split\n",
        "from tensorflow.keras.models import Sequential\n",
        "from tensorflow.keras.layers import Dense, Dropout\n",
        "from tensorflow.keras.callbacks import EarlyStopping, LambdaCallback\n",
        "\n",
        "print(tf.__version__)"
      ]
    },
    {
      "cell_type": "markdown",
      "source": [
        "## Importing the data:\n",
        "\n",
        "\n",
        "---\n",
        "\n",
        "\n",
        "dataset : data.csv\n",
        "\n",
        "Using Pandas Library to read the data,\n",
        "Pandas is a data analysis and data manipulation library."
      ],
      "metadata": {
        "id": "1TLgpXYeN4Rl"
      }
    },
    {
      "cell_type": "code",
      "source": [
        "import pandas as pd\n",
        "#setting the column names\n",
        "names = ['serial', 'date', 'age', 'distance', 'stores','latitude', 'longitude','price']\n",
        "#from pandas using read_csv function which returns a data frame\n",
        "df=pd.read_csv(\"data.csv\", names= names )\n",
        "#to check the datset\n",
        "df.head()#returns 5 rows from dataset\n"
      ],
      "metadata": {
        "colab": {
          "base_uri": "https://localhost:8080/",
          "height": 206
        },
        "id": "kVRQgybi5LjK",
        "outputId": "4caa9bc8-22b5-42b7-a8b4-92cfa2489041"
      },
      "execution_count": 9,
      "outputs": [
        {
          "output_type": "execute_result",
          "data": {
            "text/plain": [
              "   serial  date  age  distance  stores  latitude  longitude  price\n",
              "0       0  2009   21         9       6        84        121  14264\n",
              "1       1  2007    4         2       3        86        121  12032\n",
              "2       2  2016   18         3       7        90        120  13560\n",
              "3       3  2002   13         2       2        80        128  12029\n",
              "4       4  2014   25         5       8        81        122  14157"
            ],
            "text/html": [
              "\n",
              "\n",
              "  <div id=\"df-206ddd22-254f-4317-a519-fbdcbb7fdde7\">\n",
              "    <div class=\"colab-df-container\">\n",
              "      <div>\n",
              "<style scoped>\n",
              "    .dataframe tbody tr th:only-of-type {\n",
              "        vertical-align: middle;\n",
              "    }\n",
              "\n",
              "    .dataframe tbody tr th {\n",
              "        vertical-align: top;\n",
              "    }\n",
              "\n",
              "    .dataframe thead th {\n",
              "        text-align: right;\n",
              "    }\n",
              "</style>\n",
              "<table border=\"1\" class=\"dataframe\">\n",
              "  <thead>\n",
              "    <tr style=\"text-align: right;\">\n",
              "      <th></th>\n",
              "      <th>serial</th>\n",
              "      <th>date</th>\n",
              "      <th>age</th>\n",
              "      <th>distance</th>\n",
              "      <th>stores</th>\n",
              "      <th>latitude</th>\n",
              "      <th>longitude</th>\n",
              "      <th>price</th>\n",
              "    </tr>\n",
              "  </thead>\n",
              "  <tbody>\n",
              "    <tr>\n",
              "      <th>0</th>\n",
              "      <td>0</td>\n",
              "      <td>2009</td>\n",
              "      <td>21</td>\n",
              "      <td>9</td>\n",
              "      <td>6</td>\n",
              "      <td>84</td>\n",
              "      <td>121</td>\n",
              "      <td>14264</td>\n",
              "    </tr>\n",
              "    <tr>\n",
              "      <th>1</th>\n",
              "      <td>1</td>\n",
              "      <td>2007</td>\n",
              "      <td>4</td>\n",
              "      <td>2</td>\n",
              "      <td>3</td>\n",
              "      <td>86</td>\n",
              "      <td>121</td>\n",
              "      <td>12032</td>\n",
              "    </tr>\n",
              "    <tr>\n",
              "      <th>2</th>\n",
              "      <td>2</td>\n",
              "      <td>2016</td>\n",
              "      <td>18</td>\n",
              "      <td>3</td>\n",
              "      <td>7</td>\n",
              "      <td>90</td>\n",
              "      <td>120</td>\n",
              "      <td>13560</td>\n",
              "    </tr>\n",
              "    <tr>\n",
              "      <th>3</th>\n",
              "      <td>3</td>\n",
              "      <td>2002</td>\n",
              "      <td>13</td>\n",
              "      <td>2</td>\n",
              "      <td>2</td>\n",
              "      <td>80</td>\n",
              "      <td>128</td>\n",
              "      <td>12029</td>\n",
              "    </tr>\n",
              "    <tr>\n",
              "      <th>4</th>\n",
              "      <td>4</td>\n",
              "      <td>2014</td>\n",
              "      <td>25</td>\n",
              "      <td>5</td>\n",
              "      <td>8</td>\n",
              "      <td>81</td>\n",
              "      <td>122</td>\n",
              "      <td>14157</td>\n",
              "    </tr>\n",
              "  </tbody>\n",
              "</table>\n",
              "</div>\n",
              "      <button class=\"colab-df-convert\" onclick=\"convertToInteractive('df-206ddd22-254f-4317-a519-fbdcbb7fdde7')\"\n",
              "              title=\"Convert this dataframe to an interactive table.\"\n",
              "              style=\"display:none;\">\n",
              "\n",
              "  <svg xmlns=\"http://www.w3.org/2000/svg\" height=\"24px\"viewBox=\"0 0 24 24\"\n",
              "       width=\"24px\">\n",
              "    <path d=\"M0 0h24v24H0V0z\" fill=\"none\"/>\n",
              "    <path d=\"M18.56 5.44l.94 2.06.94-2.06 2.06-.94-2.06-.94-.94-2.06-.94 2.06-2.06.94zm-11 1L8.5 8.5l.94-2.06 2.06-.94-2.06-.94L8.5 2.5l-.94 2.06-2.06.94zm10 10l.94 2.06.94-2.06 2.06-.94-2.06-.94-.94-2.06-.94 2.06-2.06.94z\"/><path d=\"M17.41 7.96l-1.37-1.37c-.4-.4-.92-.59-1.43-.59-.52 0-1.04.2-1.43.59L10.3 9.45l-7.72 7.72c-.78.78-.78 2.05 0 2.83L4 21.41c.39.39.9.59 1.41.59.51 0 1.02-.2 1.41-.59l7.78-7.78 2.81-2.81c.8-.78.8-2.07 0-2.86zM5.41 20L4 18.59l7.72-7.72 1.47 1.35L5.41 20z\"/>\n",
              "  </svg>\n",
              "      </button>\n",
              "\n",
              "\n",
              "\n",
              "    <div id=\"df-3fda7889-5ee6-495f-99d0-f043cea9ad0d\">\n",
              "      <button class=\"colab-df-quickchart\" onclick=\"quickchart('df-3fda7889-5ee6-495f-99d0-f043cea9ad0d')\"\n",
              "              title=\"Suggest charts.\"\n",
              "              style=\"display:none;\">\n",
              "\n",
              "<svg xmlns=\"http://www.w3.org/2000/svg\" height=\"24px\"viewBox=\"0 0 24 24\"\n",
              "     width=\"24px\">\n",
              "    <g>\n",
              "        <path d=\"M19 3H5c-1.1 0-2 .9-2 2v14c0 1.1.9 2 2 2h14c1.1 0 2-.9 2-2V5c0-1.1-.9-2-2-2zM9 17H7v-7h2v7zm4 0h-2V7h2v10zm4 0h-2v-4h2v4z\"/>\n",
              "    </g>\n",
              "</svg>\n",
              "      </button>\n",
              "    </div>\n",
              "\n",
              "<style>\n",
              "  .colab-df-quickchart {\n",
              "    background-color: #E8F0FE;\n",
              "    border: none;\n",
              "    border-radius: 50%;\n",
              "    cursor: pointer;\n",
              "    display: none;\n",
              "    fill: #1967D2;\n",
              "    height: 32px;\n",
              "    padding: 0 0 0 0;\n",
              "    width: 32px;\n",
              "  }\n",
              "\n",
              "  .colab-df-quickchart:hover {\n",
              "    background-color: #E2EBFA;\n",
              "    box-shadow: 0px 1px 2px rgba(60, 64, 67, 0.3), 0px 1px 3px 1px rgba(60, 64, 67, 0.15);\n",
              "    fill: #174EA6;\n",
              "  }\n",
              "\n",
              "  [theme=dark] .colab-df-quickchart {\n",
              "    background-color: #3B4455;\n",
              "    fill: #D2E3FC;\n",
              "  }\n",
              "\n",
              "  [theme=dark] .colab-df-quickchart:hover {\n",
              "    background-color: #434B5C;\n",
              "    box-shadow: 0px 1px 3px 1px rgba(0, 0, 0, 0.15);\n",
              "    filter: drop-shadow(0px 1px 2px rgba(0, 0, 0, 0.3));\n",
              "    fill: #FFFFFF;\n",
              "  }\n",
              "</style>\n",
              "\n",
              "    <script>\n",
              "      async function quickchart(key) {\n",
              "        const containerElement = document.querySelector('#' + key);\n",
              "        const charts = await google.colab.kernel.invokeFunction(\n",
              "            'suggestCharts', [key], {});\n",
              "      }\n",
              "    </script>\n",
              "\n",
              "      <script>\n",
              "\n",
              "function displayQuickchartButton(domScope) {\n",
              "  let quickchartButtonEl =\n",
              "    domScope.querySelector('#df-3fda7889-5ee6-495f-99d0-f043cea9ad0d button.colab-df-quickchart');\n",
              "  quickchartButtonEl.style.display =\n",
              "    google.colab.kernel.accessAllowed ? 'block' : 'none';\n",
              "}\n",
              "\n",
              "        displayQuickchartButton(document);\n",
              "      </script>\n",
              "      <style>\n",
              "    .colab-df-container {\n",
              "      display:flex;\n",
              "      flex-wrap:wrap;\n",
              "      gap: 12px;\n",
              "    }\n",
              "\n",
              "    .colab-df-convert {\n",
              "      background-color: #E8F0FE;\n",
              "      border: none;\n",
              "      border-radius: 50%;\n",
              "      cursor: pointer;\n",
              "      display: none;\n",
              "      fill: #1967D2;\n",
              "      height: 32px;\n",
              "      padding: 0 0 0 0;\n",
              "      width: 32px;\n",
              "    }\n",
              "\n",
              "    .colab-df-convert:hover {\n",
              "      background-color: #E2EBFA;\n",
              "      box-shadow: 0px 1px 2px rgba(60, 64, 67, 0.3), 0px 1px 3px 1px rgba(60, 64, 67, 0.15);\n",
              "      fill: #174EA6;\n",
              "    }\n",
              "\n",
              "    [theme=dark] .colab-df-convert {\n",
              "      background-color: #3B4455;\n",
              "      fill: #D2E3FC;\n",
              "    }\n",
              "\n",
              "    [theme=dark] .colab-df-convert:hover {\n",
              "      background-color: #434B5C;\n",
              "      box-shadow: 0px 1px 3px 1px rgba(0, 0, 0, 0.15);\n",
              "      filter: drop-shadow(0px 1px 2px rgba(0, 0, 0, 0.3));\n",
              "      fill: #FFFFFF;\n",
              "    }\n",
              "  </style>\n",
              "\n",
              "      <script>\n",
              "        const buttonEl =\n",
              "          document.querySelector('#df-206ddd22-254f-4317-a519-fbdcbb7fdde7 button.colab-df-convert');\n",
              "        buttonEl.style.display =\n",
              "          google.colab.kernel.accessAllowed ? 'block' : 'none';\n",
              "\n",
              "        async function convertToInteractive(key) {\n",
              "          const element = document.querySelector('#df-206ddd22-254f-4317-a519-fbdcbb7fdde7');\n",
              "          const dataTable =\n",
              "            await google.colab.kernel.invokeFunction('convertToInteractive',\n",
              "                                                     [key], {});\n",
              "          if (!dataTable) return;\n",
              "\n",
              "          const docLinkHtml = 'Like what you see? Visit the ' +\n",
              "            '<a target=\"_blank\" href=https://colab.research.google.com/notebooks/data_table.ipynb>data table notebook</a>'\n",
              "            + ' to learn more about interactive tables.';\n",
              "          element.innerHTML = '';\n",
              "          dataTable['output_type'] = 'display_data';\n",
              "          await google.colab.output.renderOutput(dataTable, element);\n",
              "          const docLink = document.createElement('div');\n",
              "          docLink.innerHTML = docLinkHtml;\n",
              "          element.appendChild(docLink);\n",
              "        }\n",
              "      </script>\n",
              "    </div>\n",
              "  </div>\n"
            ]
          },
          "metadata": {},
          "execution_count": 9
        }
      ]
    },
    {
      "cell_type": "markdown",
      "source": [
        "**Checking the Missing data:**\n",
        "\n",
        "\n",
        "---\n",
        "\n",
        "\n",
        "\n",
        "using the function isna we check for any possible missing data, as data is large we return it in the form of sum:\n",
        "\n",
        "that is summing up all the isna values"
      ],
      "metadata": {
        "id": "6nmwhJvoT3UN"
      }
    },
    {
      "cell_type": "code",
      "source": [
        "df.isna().sum() #isan return either true or false for each column + sum (as the number of columns are more we prefer taking the total as a whole)"
      ],
      "metadata": {
        "colab": {
          "base_uri": "https://localhost:8080/"
        },
        "id": "s1FAIdqP7RVc",
        "outputId": "c67dba1a-d2f2-41c0-851b-b0b0985d3490"
      },
      "execution_count": 10,
      "outputs": [
        {
          "output_type": "execute_result",
          "data": {
            "text/plain": [
              "serial       0\n",
              "date         0\n",
              "age          0\n",
              "distance     0\n",
              "stores       0\n",
              "latitude     0\n",
              "longitude    0\n",
              "price        0\n",
              "dtype: int64"
            ]
          },
          "metadata": {},
          "execution_count": 10
        }
      ]
    },
    {
      "cell_type": "markdown",
      "source": [
        "## Data Normalization:\n",
        "\n",
        "\n",
        "---\n",
        "\n",
        "\n",
        "\n",
        "by Normalizing the data, it becomes easier for the Optimization Technique(GradientDescent) to calculate the minimas\n",
        "\n",
        "normalise data of different features in order obtain the values in a certian range\n",
        "\n",
        "Here, we are using Zscore Normalization:\n",
        "\n",
        "Normalized x = x-mean(x)/standardDeviation(x)\n",
        "\n",
        "range: -1 to 1\n"
      ],
      "metadata": {
        "id": "o5Ix40FjjRGK"
      }
    },
    {
      "cell_type": "code",
      "source": [
        "#serial row is not needed:\n",
        "#syntax: iloc[rows,column] - removing the 1stcolumn(i.e index=0)\n",
        "          # : here specifies all rows\n",
        "          # 1: from i=1 to all columns are being selected\n",
        "df=df.iloc[:,1:]\n",
        "df_norm = (df-df.mean())/df.std() #for every value it's calculated - By PandasLib process simp\n",
        "df_norm.head()"
      ],
      "metadata": {
        "colab": {
          "base_uri": "https://localhost:8080/",
          "height": 206
        },
        "id": "IAUiADwb9uZt",
        "outputId": "28a9f0e2-cc57-4445-ddad-b2285ca1241a"
      },
      "execution_count": 11,
      "outputs": [
        {
          "output_type": "execute_result",
          "data": {
            "text/plain": [
              "       date       age  distance    stores  latitude  longitude     price\n",
              "0  0.015978  0.181384  1.257002  0.345224 -0.307212  -1.260799  0.350088\n",
              "1 -0.350485 -1.319118 -0.930610 -0.609312  0.325301  -1.260799 -1.836486\n",
              "2  1.298598 -0.083410 -0.618094  0.663402  1.590328  -1.576456 -0.339584\n",
              "3 -1.266643 -0.524735 -0.930610 -0.927491 -1.572238   0.948803 -1.839425\n",
              "4  0.932135  0.534444  0.006938  0.981581 -1.255981  -0.945141  0.245266"
            ],
            "text/html": [
              "\n",
              "\n",
              "  <div id=\"df-b57ff3ad-223a-4b2f-b816-037665f92e04\">\n",
              "    <div class=\"colab-df-container\">\n",
              "      <div>\n",
              "<style scoped>\n",
              "    .dataframe tbody tr th:only-of-type {\n",
              "        vertical-align: middle;\n",
              "    }\n",
              "\n",
              "    .dataframe tbody tr th {\n",
              "        vertical-align: top;\n",
              "    }\n",
              "\n",
              "    .dataframe thead th {\n",
              "        text-align: right;\n",
              "    }\n",
              "</style>\n",
              "<table border=\"1\" class=\"dataframe\">\n",
              "  <thead>\n",
              "    <tr style=\"text-align: right;\">\n",
              "      <th></th>\n",
              "      <th>date</th>\n",
              "      <th>age</th>\n",
              "      <th>distance</th>\n",
              "      <th>stores</th>\n",
              "      <th>latitude</th>\n",
              "      <th>longitude</th>\n",
              "      <th>price</th>\n",
              "    </tr>\n",
              "  </thead>\n",
              "  <tbody>\n",
              "    <tr>\n",
              "      <th>0</th>\n",
              "      <td>0.015978</td>\n",
              "      <td>0.181384</td>\n",
              "      <td>1.257002</td>\n",
              "      <td>0.345224</td>\n",
              "      <td>-0.307212</td>\n",
              "      <td>-1.260799</td>\n",
              "      <td>0.350088</td>\n",
              "    </tr>\n",
              "    <tr>\n",
              "      <th>1</th>\n",
              "      <td>-0.350485</td>\n",
              "      <td>-1.319118</td>\n",
              "      <td>-0.930610</td>\n",
              "      <td>-0.609312</td>\n",
              "      <td>0.325301</td>\n",
              "      <td>-1.260799</td>\n",
              "      <td>-1.836486</td>\n",
              "    </tr>\n",
              "    <tr>\n",
              "      <th>2</th>\n",
              "      <td>1.298598</td>\n",
              "      <td>-0.083410</td>\n",
              "      <td>-0.618094</td>\n",
              "      <td>0.663402</td>\n",
              "      <td>1.590328</td>\n",
              "      <td>-1.576456</td>\n",
              "      <td>-0.339584</td>\n",
              "    </tr>\n",
              "    <tr>\n",
              "      <th>3</th>\n",
              "      <td>-1.266643</td>\n",
              "      <td>-0.524735</td>\n",
              "      <td>-0.930610</td>\n",
              "      <td>-0.927491</td>\n",
              "      <td>-1.572238</td>\n",
              "      <td>0.948803</td>\n",
              "      <td>-1.839425</td>\n",
              "    </tr>\n",
              "    <tr>\n",
              "      <th>4</th>\n",
              "      <td>0.932135</td>\n",
              "      <td>0.534444</td>\n",
              "      <td>0.006938</td>\n",
              "      <td>0.981581</td>\n",
              "      <td>-1.255981</td>\n",
              "      <td>-0.945141</td>\n",
              "      <td>0.245266</td>\n",
              "    </tr>\n",
              "  </tbody>\n",
              "</table>\n",
              "</div>\n",
              "      <button class=\"colab-df-convert\" onclick=\"convertToInteractive('df-b57ff3ad-223a-4b2f-b816-037665f92e04')\"\n",
              "              title=\"Convert this dataframe to an interactive table.\"\n",
              "              style=\"display:none;\">\n",
              "\n",
              "  <svg xmlns=\"http://www.w3.org/2000/svg\" height=\"24px\"viewBox=\"0 0 24 24\"\n",
              "       width=\"24px\">\n",
              "    <path d=\"M0 0h24v24H0V0z\" fill=\"none\"/>\n",
              "    <path d=\"M18.56 5.44l.94 2.06.94-2.06 2.06-.94-2.06-.94-.94-2.06-.94 2.06-2.06.94zm-11 1L8.5 8.5l.94-2.06 2.06-.94-2.06-.94L8.5 2.5l-.94 2.06-2.06.94zm10 10l.94 2.06.94-2.06 2.06-.94-2.06-.94-.94-2.06-.94 2.06-2.06.94z\"/><path d=\"M17.41 7.96l-1.37-1.37c-.4-.4-.92-.59-1.43-.59-.52 0-1.04.2-1.43.59L10.3 9.45l-7.72 7.72c-.78.78-.78 2.05 0 2.83L4 21.41c.39.39.9.59 1.41.59.51 0 1.02-.2 1.41-.59l7.78-7.78 2.81-2.81c.8-.78.8-2.07 0-2.86zM5.41 20L4 18.59l7.72-7.72 1.47 1.35L5.41 20z\"/>\n",
              "  </svg>\n",
              "      </button>\n",
              "\n",
              "\n",
              "\n",
              "    <div id=\"df-9c97f5c2-2fb0-41d4-b656-f8042278f70f\">\n",
              "      <button class=\"colab-df-quickchart\" onclick=\"quickchart('df-9c97f5c2-2fb0-41d4-b656-f8042278f70f')\"\n",
              "              title=\"Suggest charts.\"\n",
              "              style=\"display:none;\">\n",
              "\n",
              "<svg xmlns=\"http://www.w3.org/2000/svg\" height=\"24px\"viewBox=\"0 0 24 24\"\n",
              "     width=\"24px\">\n",
              "    <g>\n",
              "        <path d=\"M19 3H5c-1.1 0-2 .9-2 2v14c0 1.1.9 2 2 2h14c1.1 0 2-.9 2-2V5c0-1.1-.9-2-2-2zM9 17H7v-7h2v7zm4 0h-2V7h2v10zm4 0h-2v-4h2v4z\"/>\n",
              "    </g>\n",
              "</svg>\n",
              "      </button>\n",
              "    </div>\n",
              "\n",
              "<style>\n",
              "  .colab-df-quickchart {\n",
              "    background-color: #E8F0FE;\n",
              "    border: none;\n",
              "    border-radius: 50%;\n",
              "    cursor: pointer;\n",
              "    display: none;\n",
              "    fill: #1967D2;\n",
              "    height: 32px;\n",
              "    padding: 0 0 0 0;\n",
              "    width: 32px;\n",
              "  }\n",
              "\n",
              "  .colab-df-quickchart:hover {\n",
              "    background-color: #E2EBFA;\n",
              "    box-shadow: 0px 1px 2px rgba(60, 64, 67, 0.3), 0px 1px 3px 1px rgba(60, 64, 67, 0.15);\n",
              "    fill: #174EA6;\n",
              "  }\n",
              "\n",
              "  [theme=dark] .colab-df-quickchart {\n",
              "    background-color: #3B4455;\n",
              "    fill: #D2E3FC;\n",
              "  }\n",
              "\n",
              "  [theme=dark] .colab-df-quickchart:hover {\n",
              "    background-color: #434B5C;\n",
              "    box-shadow: 0px 1px 3px 1px rgba(0, 0, 0, 0.15);\n",
              "    filter: drop-shadow(0px 1px 2px rgba(0, 0, 0, 0.3));\n",
              "    fill: #FFFFFF;\n",
              "  }\n",
              "</style>\n",
              "\n",
              "    <script>\n",
              "      async function quickchart(key) {\n",
              "        const containerElement = document.querySelector('#' + key);\n",
              "        const charts = await google.colab.kernel.invokeFunction(\n",
              "            'suggestCharts', [key], {});\n",
              "      }\n",
              "    </script>\n",
              "\n",
              "      <script>\n",
              "\n",
              "function displayQuickchartButton(domScope) {\n",
              "  let quickchartButtonEl =\n",
              "    domScope.querySelector('#df-9c97f5c2-2fb0-41d4-b656-f8042278f70f button.colab-df-quickchart');\n",
              "  quickchartButtonEl.style.display =\n",
              "    google.colab.kernel.accessAllowed ? 'block' : 'none';\n",
              "}\n",
              "\n",
              "        displayQuickchartButton(document);\n",
              "      </script>\n",
              "      <style>\n",
              "    .colab-df-container {\n",
              "      display:flex;\n",
              "      flex-wrap:wrap;\n",
              "      gap: 12px;\n",
              "    }\n",
              "\n",
              "    .colab-df-convert {\n",
              "      background-color: #E8F0FE;\n",
              "      border: none;\n",
              "      border-radius: 50%;\n",
              "      cursor: pointer;\n",
              "      display: none;\n",
              "      fill: #1967D2;\n",
              "      height: 32px;\n",
              "      padding: 0 0 0 0;\n",
              "      width: 32px;\n",
              "    }\n",
              "\n",
              "    .colab-df-convert:hover {\n",
              "      background-color: #E2EBFA;\n",
              "      box-shadow: 0px 1px 2px rgba(60, 64, 67, 0.3), 0px 1px 3px 1px rgba(60, 64, 67, 0.15);\n",
              "      fill: #174EA6;\n",
              "    }\n",
              "\n",
              "    [theme=dark] .colab-df-convert {\n",
              "      background-color: #3B4455;\n",
              "      fill: #D2E3FC;\n",
              "    }\n",
              "\n",
              "    [theme=dark] .colab-df-convert:hover {\n",
              "      background-color: #434B5C;\n",
              "      box-shadow: 0px 1px 3px 1px rgba(0, 0, 0, 0.15);\n",
              "      filter: drop-shadow(0px 1px 2px rgba(0, 0, 0, 0.3));\n",
              "      fill: #FFFFFF;\n",
              "    }\n",
              "  </style>\n",
              "\n",
              "      <script>\n",
              "        const buttonEl =\n",
              "          document.querySelector('#df-b57ff3ad-223a-4b2f-b816-037665f92e04 button.colab-df-convert');\n",
              "        buttonEl.style.display =\n",
              "          google.colab.kernel.accessAllowed ? 'block' : 'none';\n",
              "\n",
              "        async function convertToInteractive(key) {\n",
              "          const element = document.querySelector('#df-b57ff3ad-223a-4b2f-b816-037665f92e04');\n",
              "          const dataTable =\n",
              "            await google.colab.kernel.invokeFunction('convertToInteractive',\n",
              "                                                     [key], {});\n",
              "          if (!dataTable) return;\n",
              "\n",
              "          const docLinkHtml = 'Like what you see? Visit the ' +\n",
              "            '<a target=\"_blank\" href=https://colab.research.google.com/notebooks/data_table.ipynb>data table notebook</a>'\n",
              "            + ' to learn more about interactive tables.';\n",
              "          element.innerHTML = '';\n",
              "          dataTable['output_type'] = 'display_data';\n",
              "          await google.colab.output.renderOutput(dataTable, element);\n",
              "          const docLink = document.createElement('div');\n",
              "          docLink.innerHTML = docLinkHtml;\n",
              "          element.appendChild(docLink);\n",
              "        }\n",
              "      </script>\n",
              "    </div>\n",
              "  </div>\n"
            ]
          },
          "metadata": {},
          "execution_count": 11
        }
      ]
    },
    {
      "cell_type": "markdown",
      "source": [
        "**Convert Label Value**\n",
        "\n",
        "---\n",
        "\n",
        "\n",
        "\n",
        "as we have converted the whole data set values into normalised values, so the prediction/ output of the trained value will be normalised prize values,\n",
        "\n",
        "therefore we have to convert the normalised predicted values back to orginal values:"
      ],
      "metadata": {
        "id": "rvdcK9329gXc"
      }
    },
    {
      "cell_type": "code",
      "source": [
        "#df['x'] - selecting specified row i.e x, here\n",
        "#calculating mean and S.D\n",
        "y_mean =df['price'].mean()\n",
        "y_std= df['price'].std()\n",
        "\n",
        "def convert_label_value(pred):\n",
        "    return int(pred*y_std+y_mean) #REVERSING: normalised values to original values\n",
        "\n",
        "print(convert_label_value(0.35008)) #checking the values"
      ],
      "metadata": {
        "colab": {
          "base_uri": "https://localhost:8080/"
        },
        "id": "CEBFWwdM9082",
        "outputId": "196adf49-d1ec-4fbf-b70e-27545f0fefe7"
      },
      "execution_count": null,
      "outputs": [
        {
          "output_type": "stream",
          "name": "stdout",
          "text": [
            "14263\n"
          ]
        }
      ]
    },
    {
      "cell_type": "markdown",
      "source": [
        "## Creating Training and Testing Sets:\n",
        "\n",
        "\n",
        "---\n",
        "\n",
        "Here, **input features are:**\n",
        "\n",
        "\n",
        "1.   Year of sale of the House\n",
        "2.   The age of the house at the time of sale\n",
        "3.   Distance from city center\n",
        "4.  Number of stores in the locality\n",
        "5.  The latitude\n",
        "6.  The longitude\n",
        "\n",
        "**Expected Output:**\n",
        "\n",
        "Price of the House\n",
        "\n",
        "\n",
        "\n"
      ],
      "metadata": {
        "id": "01On_cJq_Jwq"
      }
    },
    {
      "cell_type": "markdown",
      "source": [
        "**Select Features**:\n",
        "\n",
        "\n",
        "\n",
        "---\n",
        "From the set remove the Price column as its the oputput that has to be predicted:\n"
      ],
      "metadata": {
        "id": "dgvD5Cjd_xGp"
      }
    },
    {
      "cell_type": "code",
      "source": [
        "#from the normalised data, eleted the price column\n",
        "#select all the rows and columns expect the prize\n",
        "x=df_norm.iloc[:,:6]\n",
        "#print those values out\n",
        "x.head()"
      ],
      "metadata": {
        "colab": {
          "base_uri": "https://localhost:8080/",
          "height": 206
        },
        "id": "Y6cpdNet_SKu",
        "outputId": "d561aea4-a6ec-43f5-9636-5dd3905478a6"
      },
      "execution_count": 13,
      "outputs": [
        {
          "output_type": "execute_result",
          "data": {
            "text/plain": [
              "       date       age  distance    stores  latitude  longitude\n",
              "0  0.015978  0.181384  1.257002  0.345224 -0.307212  -1.260799\n",
              "1 -0.350485 -1.319118 -0.930610 -0.609312  0.325301  -1.260799\n",
              "2  1.298598 -0.083410 -0.618094  0.663402  1.590328  -1.576456\n",
              "3 -1.266643 -0.524735 -0.930610 -0.927491 -1.572238   0.948803\n",
              "4  0.932135  0.534444  0.006938  0.981581 -1.255981  -0.945141"
            ],
            "text/html": [
              "\n",
              "\n",
              "  <div id=\"df-92dc0bdf-2e67-4468-ad7f-3e8bc97f84c8\">\n",
              "    <div class=\"colab-df-container\">\n",
              "      <div>\n",
              "<style scoped>\n",
              "    .dataframe tbody tr th:only-of-type {\n",
              "        vertical-align: middle;\n",
              "    }\n",
              "\n",
              "    .dataframe tbody tr th {\n",
              "        vertical-align: top;\n",
              "    }\n",
              "\n",
              "    .dataframe thead th {\n",
              "        text-align: right;\n",
              "    }\n",
              "</style>\n",
              "<table border=\"1\" class=\"dataframe\">\n",
              "  <thead>\n",
              "    <tr style=\"text-align: right;\">\n",
              "      <th></th>\n",
              "      <th>date</th>\n",
              "      <th>age</th>\n",
              "      <th>distance</th>\n",
              "      <th>stores</th>\n",
              "      <th>latitude</th>\n",
              "      <th>longitude</th>\n",
              "    </tr>\n",
              "  </thead>\n",
              "  <tbody>\n",
              "    <tr>\n",
              "      <th>0</th>\n",
              "      <td>0.015978</td>\n",
              "      <td>0.181384</td>\n",
              "      <td>1.257002</td>\n",
              "      <td>0.345224</td>\n",
              "      <td>-0.307212</td>\n",
              "      <td>-1.260799</td>\n",
              "    </tr>\n",
              "    <tr>\n",
              "      <th>1</th>\n",
              "      <td>-0.350485</td>\n",
              "      <td>-1.319118</td>\n",
              "      <td>-0.930610</td>\n",
              "      <td>-0.609312</td>\n",
              "      <td>0.325301</td>\n",
              "      <td>-1.260799</td>\n",
              "    </tr>\n",
              "    <tr>\n",
              "      <th>2</th>\n",
              "      <td>1.298598</td>\n",
              "      <td>-0.083410</td>\n",
              "      <td>-0.618094</td>\n",
              "      <td>0.663402</td>\n",
              "      <td>1.590328</td>\n",
              "      <td>-1.576456</td>\n",
              "    </tr>\n",
              "    <tr>\n",
              "      <th>3</th>\n",
              "      <td>-1.266643</td>\n",
              "      <td>-0.524735</td>\n",
              "      <td>-0.930610</td>\n",
              "      <td>-0.927491</td>\n",
              "      <td>-1.572238</td>\n",
              "      <td>0.948803</td>\n",
              "    </tr>\n",
              "    <tr>\n",
              "      <th>4</th>\n",
              "      <td>0.932135</td>\n",
              "      <td>0.534444</td>\n",
              "      <td>0.006938</td>\n",
              "      <td>0.981581</td>\n",
              "      <td>-1.255981</td>\n",
              "      <td>-0.945141</td>\n",
              "    </tr>\n",
              "  </tbody>\n",
              "</table>\n",
              "</div>\n",
              "      <button class=\"colab-df-convert\" onclick=\"convertToInteractive('df-92dc0bdf-2e67-4468-ad7f-3e8bc97f84c8')\"\n",
              "              title=\"Convert this dataframe to an interactive table.\"\n",
              "              style=\"display:none;\">\n",
              "\n",
              "  <svg xmlns=\"http://www.w3.org/2000/svg\" height=\"24px\"viewBox=\"0 0 24 24\"\n",
              "       width=\"24px\">\n",
              "    <path d=\"M0 0h24v24H0V0z\" fill=\"none\"/>\n",
              "    <path d=\"M18.56 5.44l.94 2.06.94-2.06 2.06-.94-2.06-.94-.94-2.06-.94 2.06-2.06.94zm-11 1L8.5 8.5l.94-2.06 2.06-.94-2.06-.94L8.5 2.5l-.94 2.06-2.06.94zm10 10l.94 2.06.94-2.06 2.06-.94-2.06-.94-.94-2.06-.94 2.06-2.06.94z\"/><path d=\"M17.41 7.96l-1.37-1.37c-.4-.4-.92-.59-1.43-.59-.52 0-1.04.2-1.43.59L10.3 9.45l-7.72 7.72c-.78.78-.78 2.05 0 2.83L4 21.41c.39.39.9.59 1.41.59.51 0 1.02-.2 1.41-.59l7.78-7.78 2.81-2.81c.8-.78.8-2.07 0-2.86zM5.41 20L4 18.59l7.72-7.72 1.47 1.35L5.41 20z\"/>\n",
              "  </svg>\n",
              "      </button>\n",
              "\n",
              "\n",
              "\n",
              "    <div id=\"df-7c8f1a95-47e7-48f6-8bf9-d4b52c6d0efd\">\n",
              "      <button class=\"colab-df-quickchart\" onclick=\"quickchart('df-7c8f1a95-47e7-48f6-8bf9-d4b52c6d0efd')\"\n",
              "              title=\"Suggest charts.\"\n",
              "              style=\"display:none;\">\n",
              "\n",
              "<svg xmlns=\"http://www.w3.org/2000/svg\" height=\"24px\"viewBox=\"0 0 24 24\"\n",
              "     width=\"24px\">\n",
              "    <g>\n",
              "        <path d=\"M19 3H5c-1.1 0-2 .9-2 2v14c0 1.1.9 2 2 2h14c1.1 0 2-.9 2-2V5c0-1.1-.9-2-2-2zM9 17H7v-7h2v7zm4 0h-2V7h2v10zm4 0h-2v-4h2v4z\"/>\n",
              "    </g>\n",
              "</svg>\n",
              "      </button>\n",
              "    </div>\n",
              "\n",
              "<style>\n",
              "  .colab-df-quickchart {\n",
              "    background-color: #E8F0FE;\n",
              "    border: none;\n",
              "    border-radius: 50%;\n",
              "    cursor: pointer;\n",
              "    display: none;\n",
              "    fill: #1967D2;\n",
              "    height: 32px;\n",
              "    padding: 0 0 0 0;\n",
              "    width: 32px;\n",
              "  }\n",
              "\n",
              "  .colab-df-quickchart:hover {\n",
              "    background-color: #E2EBFA;\n",
              "    box-shadow: 0px 1px 2px rgba(60, 64, 67, 0.3), 0px 1px 3px 1px rgba(60, 64, 67, 0.15);\n",
              "    fill: #174EA6;\n",
              "  }\n",
              "\n",
              "  [theme=dark] .colab-df-quickchart {\n",
              "    background-color: #3B4455;\n",
              "    fill: #D2E3FC;\n",
              "  }\n",
              "\n",
              "  [theme=dark] .colab-df-quickchart:hover {\n",
              "    background-color: #434B5C;\n",
              "    box-shadow: 0px 1px 3px 1px rgba(0, 0, 0, 0.15);\n",
              "    filter: drop-shadow(0px 1px 2px rgba(0, 0, 0, 0.3));\n",
              "    fill: #FFFFFF;\n",
              "  }\n",
              "</style>\n",
              "\n",
              "    <script>\n",
              "      async function quickchart(key) {\n",
              "        const containerElement = document.querySelector('#' + key);\n",
              "        const charts = await google.colab.kernel.invokeFunction(\n",
              "            'suggestCharts', [key], {});\n",
              "      }\n",
              "    </script>\n",
              "\n",
              "      <script>\n",
              "\n",
              "function displayQuickchartButton(domScope) {\n",
              "  let quickchartButtonEl =\n",
              "    domScope.querySelector('#df-7c8f1a95-47e7-48f6-8bf9-d4b52c6d0efd button.colab-df-quickchart');\n",
              "  quickchartButtonEl.style.display =\n",
              "    google.colab.kernel.accessAllowed ? 'block' : 'none';\n",
              "}\n",
              "\n",
              "        displayQuickchartButton(document);\n",
              "      </script>\n",
              "      <style>\n",
              "    .colab-df-container {\n",
              "      display:flex;\n",
              "      flex-wrap:wrap;\n",
              "      gap: 12px;\n",
              "    }\n",
              "\n",
              "    .colab-df-convert {\n",
              "      background-color: #E8F0FE;\n",
              "      border: none;\n",
              "      border-radius: 50%;\n",
              "      cursor: pointer;\n",
              "      display: none;\n",
              "      fill: #1967D2;\n",
              "      height: 32px;\n",
              "      padding: 0 0 0 0;\n",
              "      width: 32px;\n",
              "    }\n",
              "\n",
              "    .colab-df-convert:hover {\n",
              "      background-color: #E2EBFA;\n",
              "      box-shadow: 0px 1px 2px rgba(60, 64, 67, 0.3), 0px 1px 3px 1px rgba(60, 64, 67, 0.15);\n",
              "      fill: #174EA6;\n",
              "    }\n",
              "\n",
              "    [theme=dark] .colab-df-convert {\n",
              "      background-color: #3B4455;\n",
              "      fill: #D2E3FC;\n",
              "    }\n",
              "\n",
              "    [theme=dark] .colab-df-convert:hover {\n",
              "      background-color: #434B5C;\n",
              "      box-shadow: 0px 1px 3px 1px rgba(0, 0, 0, 0.15);\n",
              "      filter: drop-shadow(0px 1px 2px rgba(0, 0, 0, 0.3));\n",
              "      fill: #FFFFFF;\n",
              "    }\n",
              "  </style>\n",
              "\n",
              "      <script>\n",
              "        const buttonEl =\n",
              "          document.querySelector('#df-92dc0bdf-2e67-4468-ad7f-3e8bc97f84c8 button.colab-df-convert');\n",
              "        buttonEl.style.display =\n",
              "          google.colab.kernel.accessAllowed ? 'block' : 'none';\n",
              "\n",
              "        async function convertToInteractive(key) {\n",
              "          const element = document.querySelector('#df-92dc0bdf-2e67-4468-ad7f-3e8bc97f84c8');\n",
              "          const dataTable =\n",
              "            await google.colab.kernel.invokeFunction('convertToInteractive',\n",
              "                                                     [key], {});\n",
              "          if (!dataTable) return;\n",
              "\n",
              "          const docLinkHtml = 'Like what you see? Visit the ' +\n",
              "            '<a target=\"_blank\" href=https://colab.research.google.com/notebooks/data_table.ipynb>data table notebook</a>'\n",
              "            + ' to learn more about interactive tables.';\n",
              "          element.innerHTML = '';\n",
              "          dataTable['output_type'] = 'display_data';\n",
              "          await google.colab.output.renderOutput(dataTable, element);\n",
              "          const docLink = document.createElement('div');\n",
              "          docLink.innerHTML = docLinkHtml;\n",
              "          element.appendChild(docLink);\n",
              "        }\n",
              "      </script>\n",
              "    </div>\n",
              "  </div>\n"
            ]
          },
          "metadata": {},
          "execution_count": 13
        }
      ]
    },
    {
      "cell_type": "code",
      "source": [
        "#store the prices(Expected outputs) into a new variable\n",
        "y=df_norm.iloc[:,-1] #columns -1 : only last column\n",
        "y.head()"
      ],
      "metadata": {
        "colab": {
          "base_uri": "https://localhost:8080/"
        },
        "id": "KvegtmN1_djd",
        "outputId": "6680fca5-bb66-4209-8493-9ab3224a5d0e"
      },
      "execution_count": 14,
      "outputs": [
        {
          "output_type": "execute_result",
          "data": {
            "text/plain": [
              "0    0.350088\n",
              "1   -1.836486\n",
              "2   -0.339584\n",
              "3   -1.839425\n",
              "4    0.245266\n",
              "Name: price, dtype: float64"
            ]
          },
          "metadata": {},
          "execution_count": 14
        }
      ]
    },
    {
      "cell_type": "code",
      "source": [
        "#required only values as inputs -  using numpy arrays\n",
        "#accesing by using numpy (.values function)\n",
        "x_arr=x.values\n",
        "y_arr=y.values\n",
        "\n",
        "print( x_arr.shape)\n",
        "print( y_arr.shape)\n",
        "\n",
        "#explaination about output:\n",
        "#(5000, 6) - 5000 examples of 6 features"
      ],
      "metadata": {
        "colab": {
          "base_uri": "https://localhost:8080/"
        },
        "id": "UdzanUgq_llV",
        "outputId": "a044b81e-8d98-404d-9af3-0107d6661ed7"
      },
      "execution_count": 15,
      "outputs": [
        {
          "output_type": "stream",
          "name": "stdout",
          "text": [
            "(5000, 6)\n",
            "(5000,)\n"
          ]
        }
      ]
    },
    {
      "cell_type": "markdown",
      "source": [
        "**Training and Testing Set**\n",
        "\n",
        "---\n",
        "\n",
        "\n",
        "\n",
        "Dividing the data into 2 sets:\n",
        "\n",
        "1. Trianing Set - on which the model is trained on\n",
        "\n",
        "2. Testing Set - on which the model is tested\n"
      ],
      "metadata": {
        "id": "JvTsKzl4BYVj"
      }
    },
    {
      "cell_type": "code",
      "source": [
        "#Training: 5000 examples\n",
        "#training: x_train and y_train - 4750 exampels\n",
        "#testing: x_test and y_test - 250 examples\n",
        "\n",
        "#test size = 0.5 : which means only 5% data is used for testing\n",
        "\n",
        "x_train, x_test, y_train, y_test = train_test_split(x_arr, y_arr, test_size=0.05, random_state =0)\n",
        "print( x_train.shape, y_train.shape)\n",
        "print(y_test.shape, y_test.shape)"
      ],
      "metadata": {
        "colab": {
          "base_uri": "https://localhost:8080/"
        },
        "id": "eAFav0uh_oFW",
        "outputId": "d72d5ad7-da01-4cd5-ec57-b2f29e0ffe42"
      },
      "execution_count": 16,
      "outputs": [
        {
          "output_type": "stream",
          "name": "stdout",
          "text": [
            "(4750, 6) (4750,)\n",
            "(250,) (250,)\n"
          ]
        }
      ]
    },
    {
      "cell_type": "markdown",
      "source": [
        "## Create the Model:\n",
        "\n"
      ],
      "metadata": {
        "id": "3qmXFU5TKbu4"
      }
    },
    {
      "cell_type": "code",
      "source": [
        "def get_model():\n",
        "#considering, 3layers + ReLu Activationfxn\n",
        "#using Squential from Keras:\n",
        "    model = Sequential([\n",
        "        #Layer 1 : Dense , no.of nodes = 10, inputfeatures = 6, activationfxn - rectified Linear Unit\n",
        "        Dense(10, input_shape=(6,), activation ='relu'),\n",
        "        #Layer 2 : fully connected Dense Layer\n",
        "        Dense(20, activation = 'relu'),\n",
        "        #Hidden Layer\n",
        "        Dense(5, activation = 'relu'),\n",
        "        #Layer3: Output Layer - as regression prob, activation fxn - not req\n",
        "        Dense(1)\n",
        "    ])\n",
        "\n",
        "    '''Model Summary:\n",
        "    Its a Fully Connected Network -  its a dense full connected network:\n",
        "    to calculate the parameters -\n",
        "    Multiply no.of nodes with preceeding layers + bias\n",
        "    ex. dense 2 = 5*20+5 =105'''\n",
        "\n",
        "    model.compile(\n",
        "    loss ='mse', #loss function: Mean Square Method\n",
        "        optimizer = 'adam') #Optimiser - Adam - used for minimising loss funct.\n",
        "    return model\n",
        "\n",
        "get_model().summary() # summary -  models architecture"
      ],
      "metadata": {
        "colab": {
          "base_uri": "https://localhost:8080/"
        },
        "id": "if2hE6ov_q42",
        "outputId": "443392a1-34d7-48ad-9ad1-4f80db6ffe27"
      },
      "execution_count": 19,
      "outputs": [
        {
          "output_type": "stream",
          "name": "stdout",
          "text": [
            "Model: \"sequential\"\n",
            "_________________________________________________________________\n",
            " Layer (type)                Output Shape              Param #   \n",
            "=================================================================\n",
            " dense (Dense)               (None, 10)                70        \n",
            "                                                                 \n",
            " dense_1 (Dense)             (None, 20)                220       \n",
            "                                                                 \n",
            " dense_2 (Dense)             (None, 5)                 105       \n",
            "                                                                 \n",
            " dense_3 (Dense)             (None, 1)                 6         \n",
            "                                                                 \n",
            "=================================================================\n",
            "Total params: 401\n",
            "Trainable params: 401\n",
            "Non-trainable params: 0\n",
            "_________________________________________________________________\n"
          ]
        }
      ]
    },
    {
      "cell_type": "markdown",
      "source": [
        "## Model Training\n",
        "\n",
        "---\n",
        "\n",
        "\n",
        "\n",
        "Training Time for the model - not sure?\n",
        "\n",
        "solution: Early Stopping call back from Keras - if validation loss decreases for few epochs\n",
        "\n",
        "validation loss - calculated on testing Data"
      ],
      "metadata": {
        "id": "B8JrabTzNikj"
      }
    },
    {
      "cell_type": "code",
      "source": [
        "#earlyStopping - call back from keras , wait for (patience) seconds if val loss not changing then stops the training:\n",
        "es_cb = EarlyStopping(monitor='val_loss', patience =5)\n",
        "\n",
        "#create  a model using get model function:\n",
        "model = get_model()\n",
        "#getting prediction from untrained model\n",
        "preds_on_untrained=model.predict(x_test)\n",
        "\n",
        "#model training:\n",
        "#model.fit- to fit the model on data\n",
        "#history fxn has info on validationloss on various epochs\n",
        "history = model.fit(\n",
        "    x_train, y_train,\n",
        "    validation_data = (x_test, y_test), #validation on testing set\n",
        "    epochs = 100,\n",
        "    callbacks = [es_cb] #using only one call back\n",
        ")"
      ],
      "metadata": {
        "colab": {
          "base_uri": "https://localhost:8080/"
        },
        "id": "Q0TKmg8IOX1z",
        "outputId": "ec03c819-7aa0-4e31-f4f8-e415f4f0a83c"
      },
      "execution_count": 26,
      "outputs": [
        {
          "output_type": "stream",
          "name": "stdout",
          "text": [
            "8/8 [==============================] - 0s 2ms/step\n",
            "Epoch 1/100\n",
            "149/149 [==============================] - 1s 3ms/step - loss: 0.6351 - val_loss: 0.3261\n",
            "Epoch 2/100\n",
            "149/149 [==============================] - 0s 2ms/step - loss: 0.2770 - val_loss: 0.1849\n",
            "Epoch 3/100\n",
            "149/149 [==============================] - 0s 2ms/step - loss: 0.1976 - val_loss: 0.1604\n",
            "Epoch 4/100\n",
            "149/149 [==============================] - 0s 2ms/step - loss: 0.1779 - val_loss: 0.1566\n",
            "Epoch 5/100\n",
            "149/149 [==============================] - 0s 2ms/step - loss: 0.1705 - val_loss: 0.1474\n",
            "Epoch 6/100\n",
            "149/149 [==============================] - 0s 2ms/step - loss: 0.1665 - val_loss: 0.1497\n",
            "Epoch 7/100\n",
            "149/149 [==============================] - 0s 2ms/step - loss: 0.1640 - val_loss: 0.1459\n",
            "Epoch 8/100\n",
            "149/149 [==============================] - 1s 4ms/step - loss: 0.1615 - val_loss: 0.1484\n",
            "Epoch 9/100\n",
            "149/149 [==============================] - 0s 3ms/step - loss: 0.1602 - val_loss: 0.1512\n",
            "Epoch 10/100\n",
            "149/149 [==============================] - 0s 3ms/step - loss: 0.1592 - val_loss: 0.1478\n",
            "Epoch 11/100\n",
            "149/149 [==============================] - 0s 3ms/step - loss: 0.1580 - val_loss: 0.1496\n",
            "Epoch 12/100\n",
            "149/149 [==============================] - 0s 3ms/step - loss: 0.1573 - val_loss: 0.1447\n",
            "Epoch 13/100\n",
            "149/149 [==============================] - 0s 3ms/step - loss: 0.1561 - val_loss: 0.1450\n",
            "Epoch 14/100\n",
            "149/149 [==============================] - 0s 2ms/step - loss: 0.1559 - val_loss: 0.1451\n",
            "Epoch 15/100\n",
            "149/149 [==============================] - 0s 2ms/step - loss: 0.1544 - val_loss: 0.1429\n",
            "Epoch 16/100\n",
            "149/149 [==============================] - 0s 2ms/step - loss: 0.1550 - val_loss: 0.1449\n",
            "Epoch 17/100\n",
            "149/149 [==============================] - 0s 2ms/step - loss: 0.1548 - val_loss: 0.1428\n",
            "Epoch 18/100\n",
            "149/149 [==============================] - 0s 2ms/step - loss: 0.1537 - val_loss: 0.1436\n",
            "Epoch 19/100\n",
            "149/149 [==============================] - 0s 2ms/step - loss: 0.1533 - val_loss: 0.1453\n",
            "Epoch 20/100\n",
            "149/149 [==============================] - 0s 2ms/step - loss: 0.1533 - val_loss: 0.1451\n",
            "Epoch 21/100\n",
            "149/149 [==============================] - 0s 2ms/step - loss: 0.1532 - val_loss: 0.1449\n",
            "Epoch 22/100\n",
            "149/149 [==============================] - 0s 2ms/step - loss: 0.1526 - val_loss: 0.1448\n"
          ]
        }
      ]
    },
    {
      "cell_type": "markdown",
      "source": [
        "**plot Training and Validation Loss:**\n",
        "\n",
        "\n",
        "---\n",
        "using plot loss function - to compare predictions from the model when its trained and when its untrained\n"
      ],
      "metadata": {
        "id": "n-xzvR_CQsK6"
      }
    },
    {
      "cell_type": "code",
      "source": [
        "#plot_loss(history) #contains both untrained and trained value set\n",
        "\n",
        "plt.plot(history.history['loss'])\n",
        "plt.plot(history.history['val_loss'])\n",
        "plt.title('model loss')\n",
        "plt.ylabel('loss')\n",
        "plt.xlabel('epoch')\n",
        "plt.legend(['train', 'val'], loc='upper right')\n",
        "plt.show()"
      ],
      "metadata": {
        "colab": {
          "base_uri": "https://localhost:8080/",
          "height": 472
        },
        "id": "wIKV_K3rRDMj",
        "outputId": "257077a2-c154-4133-9406-263855b24b1f"
      },
      "execution_count": 31,
      "outputs": [
        {
          "output_type": "display_data",
          "data": {
            "text/plain": [
              "<Figure size 640x480 with 1 Axes>"
            ],
            "image/png": "[encoded data removed]"
          },
          "metadata": {}
        }
      ]
    },
    {
      "cell_type": "markdown",
      "source": [
        "## PREDICTIONS:\n"
      ],
      "metadata": {
        "id": "QjwcUlhTSAQE"
      }
    },
    {
      "cell_type": "markdown",
      "source": [
        "**Plot Raw Predictions:**\n",
        "\n",
        "---\n",
        "\n",
        "\n",
        "\n",
        "to compare the model before and after prediction\n",
        "\n",
        "function using: Compare Prediction Helper function"
      ],
      "metadata": {
        "id": "tXJ8EQviSFKk"
      }
    },
    {
      "cell_type": "code",
      "source": [
        "preds_on_trained = model.predict(x_test)\n",
        "\n",
        "compare_predictions(preds_on_untrained, preds_on_trained, y_test)"
      ],
      "metadata": {
        "colab": {
          "base_uri": "https://localhost:8080/"
        },
        "id": "kMJouh-2SfTL",
        "outputId": "aaa8e37f-c4a4-4af2-d24a-434697dc4f98"
      },
      "execution_count": 40,
      "outputs": [
        {
          "output_type": "stream",
          "name": "stdout",
          "text": [
            "8/8 [==============================] - 0s 2ms/step\n"
          ]
        }
      ]
    },
    {
      "cell_type": "code",
      "source": [
        "def compare_predictions(preds1, preds2, y_test):\n",
        "    \"\"\"\n",
        "    Compare two sets of predictions with the ground truth labels.\n",
        "\n",
        "    Args:\n",
        "        preds1 (list): Predictions from the first model.\n",
        "        preds2 (list): Predictions from the second model.\n",
        "        y_test (list): Ground truth labels.\n",
        "\n",
        "    Returns:\n",
        "        None\n",
        "    \"\"\"\n",
        "    # Calculate the mean squared error (MSE) for both sets of predictions\n",
        "    mse1 = sum((pred - true) ** 2 for pred, true in zip(preds1, y_test)) / len(y_test)\n",
        "    mse2 = sum((pred - true) ** 2 for pred, true in zip(preds2, y_test)) / len(y_test)\n",
        "\n",
        "    # Print the MSE for each set of predictions\n",
        "    print(\"MSE for preds1:\", mse1)\n",
        "    print(\"MSE for preds2:\", mse2)\n",
        "\n",
        "    # Compare the MSE values and print the model with better performance\n",
        "    if mse1 < mse2:\n",
        "        print(\"preds1 performs better.\")\n",
        "    elif mse1 > mse2:\n",
        "        print(\"preds2 performs better.\")\n",
        "    else:\n",
        "        print(\"Both sets of predictions have the same performance.\")\n",
        "\n",
        "# Rest of your code\n",
        "plt.plot(preds_on_trained)\n",
        "plt.plot(preds_on_untrained)\n",
        "compare_predictions(preds_on_untrained, preds_on_trained, y_test)\n"
      ],
      "metadata": {
        "colab": {
          "base_uri": "https://localhost:8080/",
          "height": 482
        },
        "id": "GaOf6o8UXqt5",
        "outputId": "3c1bb3b0-17f3-4caa-d4f8-13b882692cc0"
      },
      "execution_count": 41,
      "outputs": [
        {
          "output_type": "stream",
          "name": "stdout",
          "text": [
            "MSE for preds1: [0.82436943]\n",
            "MSE for preds2: [0.14477494]\n",
            "preds2 performs better.\n"
          ]
        },
        {
          "output_type": "display_data",
          "data": {
            "text/plain": [
              "<Figure size 640x480 with 1 Axes>"
            ],
            "image/png": "[encoded data removed]"
          },
          "metadata": {}
        }
      ]
    }
  ]
}